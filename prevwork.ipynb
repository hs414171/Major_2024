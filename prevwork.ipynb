{
 "cells": [
  {
   "cell_type": "code",
   "execution_count": 98,
   "metadata": {},
   "outputs": [],
   "source": [
    "import pandas as pd\n",
    "import numpy as np\n",
    "from sklearn.model_selection import train_test_split\n",
    "from sklearn.preprocessing import StandardScaler, LabelEncoder\n",
    "from sklearn.linear_model import LogisticRegression\n",
    "from sklearn.naive_bayes import GaussianNB\n",
    "from sklearn.neighbors import KNeighborsClassifier\n",
    "from sklearn.tree import DecisionTreeClassifier\n",
    "from sklearn.ensemble import RandomForestClassifier, AdaBoostClassifier\n",
    "from sklearn.metrics import accuracy_score, precision_score, recall_score, f1_score\n",
    "\n",
    "# Load data from users_hate_glove.content file\n",
    "data = pd.read_csv(r\"C:\\Users\\hs414\\OneDrive\\Desktop\\Major_2024\\data\\hate\\users_hate_glove.content\", header=None, delimiter=\"\\t\")\n",
    "\n",
    "\n",
    "data = data.rename(columns={0: \"user_id\", 301: \"hate_label\"})\n"
   ]
  },
  {
   "cell_type": "code",
   "execution_count": 185,
   "metadata": {},
   "outputs": [
    {
     "data": {
      "text/html": [
       "<div>\n",
       "<style scoped>\n",
       "    .dataframe tbody tr th:only-of-type {\n",
       "        vertical-align: middle;\n",
       "    }\n",
       "\n",
       "    .dataframe tbody tr th {\n",
       "        vertical-align: top;\n",
       "    }\n",
       "\n",
       "    .dataframe thead th {\n",
       "        text-align: right;\n",
       "    }\n",
       "</style>\n",
       "<table border=\"1\" class=\"dataframe\">\n",
       "  <thead>\n",
       "    <tr style=\"text-align: right;\">\n",
       "      <th></th>\n",
       "      <th>user_id</th>\n",
       "      <th>1</th>\n",
       "      <th>2</th>\n",
       "      <th>3</th>\n",
       "      <th>4</th>\n",
       "      <th>5</th>\n",
       "      <th>6</th>\n",
       "      <th>7</th>\n",
       "      <th>8</th>\n",
       "      <th>9</th>\n",
       "      <th>...</th>\n",
       "      <th>292</th>\n",
       "      <th>293</th>\n",
       "      <th>294</th>\n",
       "      <th>295</th>\n",
       "      <th>296</th>\n",
       "      <th>297</th>\n",
       "      <th>298</th>\n",
       "      <th>299</th>\n",
       "      <th>300</th>\n",
       "      <th>hate_label</th>\n",
       "    </tr>\n",
       "  </thead>\n",
       "  <tbody>\n",
       "    <tr>\n",
       "      <th>0</th>\n",
       "      <td>0</td>\n",
       "      <td>-1.089073</td>\n",
       "      <td>-0.819852</td>\n",
       "      <td>-0.892742</td>\n",
       "      <td>-1.340293</td>\n",
       "      <td>-0.062930</td>\n",
       "      <td>0.328899</td>\n",
       "      <td>0.253635</td>\n",
       "      <td>0.115707</td>\n",
       "      <td>-0.727039</td>\n",
       "      <td>...</td>\n",
       "      <td>-0.185449</td>\n",
       "      <td>-1.034164</td>\n",
       "      <td>-0.923736</td>\n",
       "      <td>0.068635</td>\n",
       "      <td>1.911311</td>\n",
       "      <td>-1.025432</td>\n",
       "      <td>-0.438166</td>\n",
       "      <td>0.582276</td>\n",
       "      <td>0.765071</td>\n",
       "      <td>normal</td>\n",
       "    </tr>\n",
       "    <tr>\n",
       "      <th>22</th>\n",
       "      <td>22</td>\n",
       "      <td>-0.020976</td>\n",
       "      <td>-0.658948</td>\n",
       "      <td>-1.183166</td>\n",
       "      <td>-2.388986</td>\n",
       "      <td>0.506060</td>\n",
       "      <td>0.732390</td>\n",
       "      <td>0.298279</td>\n",
       "      <td>-1.706375</td>\n",
       "      <td>-0.149522</td>\n",
       "      <td>...</td>\n",
       "      <td>-1.982040</td>\n",
       "      <td>-1.307111</td>\n",
       "      <td>-1.613784</td>\n",
       "      <td>0.869954</td>\n",
       "      <td>-0.547563</td>\n",
       "      <td>-0.430940</td>\n",
       "      <td>0.233932</td>\n",
       "      <td>1.112722</td>\n",
       "      <td>0.660885</td>\n",
       "      <td>normal</td>\n",
       "    </tr>\n",
       "    <tr>\n",
       "      <th>29</th>\n",
       "      <td>29</td>\n",
       "      <td>1.257068</td>\n",
       "      <td>0.523684</td>\n",
       "      <td>-0.423057</td>\n",
       "      <td>-0.642238</td>\n",
       "      <td>-0.072245</td>\n",
       "      <td>-0.471483</td>\n",
       "      <td>-0.338337</td>\n",
       "      <td>0.107110</td>\n",
       "      <td>-1.360391</td>\n",
       "      <td>...</td>\n",
       "      <td>-0.118747</td>\n",
       "      <td>0.323238</td>\n",
       "      <td>-1.461468</td>\n",
       "      <td>-0.324437</td>\n",
       "      <td>0.767427</td>\n",
       "      <td>-0.020313</td>\n",
       "      <td>-0.047015</td>\n",
       "      <td>1.172450</td>\n",
       "      <td>-0.757194</td>\n",
       "      <td>normal</td>\n",
       "    </tr>\n",
       "    <tr>\n",
       "      <th>44</th>\n",
       "      <td>44</td>\n",
       "      <td>-0.383711</td>\n",
       "      <td>-0.027758</td>\n",
       "      <td>1.823646</td>\n",
       "      <td>0.944793</td>\n",
       "      <td>0.759426</td>\n",
       "      <td>1.631036</td>\n",
       "      <td>0.775020</td>\n",
       "      <td>0.550644</td>\n",
       "      <td>0.298231</td>\n",
       "      <td>...</td>\n",
       "      <td>-0.872055</td>\n",
       "      <td>0.131165</td>\n",
       "      <td>0.554441</td>\n",
       "      <td>-0.865574</td>\n",
       "      <td>0.555545</td>\n",
       "      <td>0.219754</td>\n",
       "      <td>1.394477</td>\n",
       "      <td>-1.372494</td>\n",
       "      <td>0.165514</td>\n",
       "      <td>normal</td>\n",
       "    </tr>\n",
       "    <tr>\n",
       "      <th>85</th>\n",
       "      <td>85</td>\n",
       "      <td>-0.210998</td>\n",
       "      <td>-0.514974</td>\n",
       "      <td>0.184683</td>\n",
       "      <td>0.451372</td>\n",
       "      <td>-0.594404</td>\n",
       "      <td>-0.377794</td>\n",
       "      <td>-0.113593</td>\n",
       "      <td>0.553205</td>\n",
       "      <td>-0.789661</td>\n",
       "      <td>...</td>\n",
       "      <td>-0.039548</td>\n",
       "      <td>-0.004352</td>\n",
       "      <td>0.188056</td>\n",
       "      <td>-0.084436</td>\n",
       "      <td>-0.228187</td>\n",
       "      <td>-0.505434</td>\n",
       "      <td>0.323775</td>\n",
       "      <td>-0.373355</td>\n",
       "      <td>0.058962</td>\n",
       "      <td>normal</td>\n",
       "    </tr>\n",
       "    <tr>\n",
       "      <th>...</th>\n",
       "      <td>...</td>\n",
       "      <td>...</td>\n",
       "      <td>...</td>\n",
       "      <td>...</td>\n",
       "      <td>...</td>\n",
       "      <td>...</td>\n",
       "      <td>...</td>\n",
       "      <td>...</td>\n",
       "      <td>...</td>\n",
       "      <td>...</td>\n",
       "      <td>...</td>\n",
       "      <td>...</td>\n",
       "      <td>...</td>\n",
       "      <td>...</td>\n",
       "      <td>...</td>\n",
       "      <td>...</td>\n",
       "      <td>...</td>\n",
       "      <td>...</td>\n",
       "      <td>...</td>\n",
       "      <td>...</td>\n",
       "      <td>...</td>\n",
       "    </tr>\n",
       "    <tr>\n",
       "      <th>100332</th>\n",
       "      <td>100332</td>\n",
       "      <td>1.266575</td>\n",
       "      <td>-3.767221</td>\n",
       "      <td>1.751611</td>\n",
       "      <td>0.357219</td>\n",
       "      <td>-2.891968</td>\n",
       "      <td>1.739417</td>\n",
       "      <td>-0.556690</td>\n",
       "      <td>1.830134</td>\n",
       "      <td>-0.395613</td>\n",
       "      <td>...</td>\n",
       "      <td>-0.971162</td>\n",
       "      <td>0.473542</td>\n",
       "      <td>2.970558</td>\n",
       "      <td>-1.482317</td>\n",
       "      <td>1.397850</td>\n",
       "      <td>1.487283</td>\n",
       "      <td>1.677759</td>\n",
       "      <td>-0.374852</td>\n",
       "      <td>-3.406609</td>\n",
       "      <td>normal</td>\n",
       "    </tr>\n",
       "    <tr>\n",
       "      <th>100338</th>\n",
       "      <td>100338</td>\n",
       "      <td>-0.757479</td>\n",
       "      <td>-0.002999</td>\n",
       "      <td>-0.107967</td>\n",
       "      <td>0.310481</td>\n",
       "      <td>-0.277060</td>\n",
       "      <td>-0.249805</td>\n",
       "      <td>-0.351850</td>\n",
       "      <td>0.635101</td>\n",
       "      <td>-0.750882</td>\n",
       "      <td>...</td>\n",
       "      <td>0.025095</td>\n",
       "      <td>0.015699</td>\n",
       "      <td>-0.672534</td>\n",
       "      <td>-0.446668</td>\n",
       "      <td>0.944820</td>\n",
       "      <td>-0.020044</td>\n",
       "      <td>0.021873</td>\n",
       "      <td>0.269817</td>\n",
       "      <td>0.098479</td>\n",
       "      <td>normal</td>\n",
       "    </tr>\n",
       "    <tr>\n",
       "      <th>100362</th>\n",
       "      <td>100362</td>\n",
       "      <td>0.631749</td>\n",
       "      <td>-0.398604</td>\n",
       "      <td>-0.371031</td>\n",
       "      <td>-0.374350</td>\n",
       "      <td>0.772634</td>\n",
       "      <td>-0.258960</td>\n",
       "      <td>-0.571235</td>\n",
       "      <td>0.956809</td>\n",
       "      <td>-0.108297</td>\n",
       "      <td>...</td>\n",
       "      <td>0.391021</td>\n",
       "      <td>-1.007163</td>\n",
       "      <td>0.689926</td>\n",
       "      <td>-0.378117</td>\n",
       "      <td>1.757827</td>\n",
       "      <td>-0.793881</td>\n",
       "      <td>-0.193041</td>\n",
       "      <td>-0.347878</td>\n",
       "      <td>0.099196</td>\n",
       "      <td>normal</td>\n",
       "    </tr>\n",
       "    <tr>\n",
       "      <th>100380</th>\n",
       "      <td>100380</td>\n",
       "      <td>-1.243691</td>\n",
       "      <td>-0.482678</td>\n",
       "      <td>0.389554</td>\n",
       "      <td>0.642738</td>\n",
       "      <td>-0.411359</td>\n",
       "      <td>-0.795607</td>\n",
       "      <td>-0.546549</td>\n",
       "      <td>0.901010</td>\n",
       "      <td>-0.985417</td>\n",
       "      <td>...</td>\n",
       "      <td>0.819497</td>\n",
       "      <td>-0.735104</td>\n",
       "      <td>-0.560206</td>\n",
       "      <td>-0.054413</td>\n",
       "      <td>1.857762</td>\n",
       "      <td>0.384953</td>\n",
       "      <td>0.221914</td>\n",
       "      <td>-0.671530</td>\n",
       "      <td>0.149727</td>\n",
       "      <td>hateful</td>\n",
       "    </tr>\n",
       "    <tr>\n",
       "      <th>100385</th>\n",
       "      <td>100385</td>\n",
       "      <td>-0.312146</td>\n",
       "      <td>-0.495224</td>\n",
       "      <td>2.437877</td>\n",
       "      <td>0.636701</td>\n",
       "      <td>0.512453</td>\n",
       "      <td>-1.375352</td>\n",
       "      <td>0.555143</td>\n",
       "      <td>-1.062793</td>\n",
       "      <td>3.118041</td>\n",
       "      <td>...</td>\n",
       "      <td>-2.234703</td>\n",
       "      <td>-1.930060</td>\n",
       "      <td>-0.559149</td>\n",
       "      <td>0.630468</td>\n",
       "      <td>-1.677100</td>\n",
       "      <td>0.069720</td>\n",
       "      <td>1.134311</td>\n",
       "      <td>-1.570380</td>\n",
       "      <td>-0.864275</td>\n",
       "      <td>normal</td>\n",
       "    </tr>\n",
       "  </tbody>\n",
       "</table>\n",
       "<p>4971 rows × 302 columns</p>\n",
       "</div>"
      ],
      "text/plain": [
       "        user_id         1         2         3         4         5         6  \\\n",
       "0             0 -1.089073 -0.819852 -0.892742 -1.340293 -0.062930  0.328899   \n",
       "22           22 -0.020976 -0.658948 -1.183166 -2.388986  0.506060  0.732390   \n",
       "29           29  1.257068  0.523684 -0.423057 -0.642238 -0.072245 -0.471483   \n",
       "44           44 -0.383711 -0.027758  1.823646  0.944793  0.759426  1.631036   \n",
       "85           85 -0.210998 -0.514974  0.184683  0.451372 -0.594404 -0.377794   \n",
       "...         ...       ...       ...       ...       ...       ...       ...   \n",
       "100332   100332  1.266575 -3.767221  1.751611  0.357219 -2.891968  1.739417   \n",
       "100338   100338 -0.757479 -0.002999 -0.107967  0.310481 -0.277060 -0.249805   \n",
       "100362   100362  0.631749 -0.398604 -0.371031 -0.374350  0.772634 -0.258960   \n",
       "100380   100380 -1.243691 -0.482678  0.389554  0.642738 -0.411359 -0.795607   \n",
       "100385   100385 -0.312146 -0.495224  2.437877  0.636701  0.512453 -1.375352   \n",
       "\n",
       "               7         8         9  ...       292       293       294  \\\n",
       "0       0.253635  0.115707 -0.727039  ... -0.185449 -1.034164 -0.923736   \n",
       "22      0.298279 -1.706375 -0.149522  ... -1.982040 -1.307111 -1.613784   \n",
       "29     -0.338337  0.107110 -1.360391  ... -0.118747  0.323238 -1.461468   \n",
       "44      0.775020  0.550644  0.298231  ... -0.872055  0.131165  0.554441   \n",
       "85     -0.113593  0.553205 -0.789661  ... -0.039548 -0.004352  0.188056   \n",
       "...          ...       ...       ...  ...       ...       ...       ...   \n",
       "100332 -0.556690  1.830134 -0.395613  ... -0.971162  0.473542  2.970558   \n",
       "100338 -0.351850  0.635101 -0.750882  ...  0.025095  0.015699 -0.672534   \n",
       "100362 -0.571235  0.956809 -0.108297  ...  0.391021 -1.007163  0.689926   \n",
       "100380 -0.546549  0.901010 -0.985417  ...  0.819497 -0.735104 -0.560206   \n",
       "100385  0.555143 -1.062793  3.118041  ... -2.234703 -1.930060 -0.559149   \n",
       "\n",
       "             295       296       297       298       299       300  hate_label  \n",
       "0       0.068635  1.911311 -1.025432 -0.438166  0.582276  0.765071      normal  \n",
       "22      0.869954 -0.547563 -0.430940  0.233932  1.112722  0.660885      normal  \n",
       "29     -0.324437  0.767427 -0.020313 -0.047015  1.172450 -0.757194      normal  \n",
       "44     -0.865574  0.555545  0.219754  1.394477 -1.372494  0.165514      normal  \n",
       "85     -0.084436 -0.228187 -0.505434  0.323775 -0.373355  0.058962      normal  \n",
       "...          ...       ...       ...       ...       ...       ...         ...  \n",
       "100332 -1.482317  1.397850  1.487283  1.677759 -0.374852 -3.406609      normal  \n",
       "100338 -0.446668  0.944820 -0.020044  0.021873  0.269817  0.098479      normal  \n",
       "100362 -0.378117  1.757827 -0.793881 -0.193041 -0.347878  0.099196      normal  \n",
       "100380 -0.054413  1.857762  0.384953  0.221914 -0.671530  0.149727     hateful  \n",
       "100385  0.630468 -1.677100  0.069720  1.134311 -1.570380 -0.864275      normal  \n",
       "\n",
       "[4971 rows x 302 columns]"
      ]
     },
     "execution_count": 185,
     "metadata": {},
     "output_type": "execute_result"
    }
   ],
   "source": [
    "data"
   ]
  },
  {
   "cell_type": "code",
   "execution_count": 99,
   "metadata": {},
   "outputs": [
    {
     "data": {
      "text/plain": [
       "False"
      ]
     },
     "execution_count": 99,
     "metadata": {},
     "output_type": "execute_result"
    }
   ],
   "source": [
    "# Check if there are any null values in the entire dataset\n",
    "any_null = data.isnull().any().any()\n",
    "any_null\n"
   ]
  },
  {
   "cell_type": "code",
   "execution_count": 100,
   "metadata": {},
   "outputs": [],
   "source": [
    "data = data[data[\"hate_label\"] != \"other\"]"
   ]
  },
  {
   "cell_type": "code",
   "execution_count": 101,
   "metadata": {},
   "outputs": [],
   "source": [
    "features = data.iloc[:, 1:301]\n",
    "labels = data.iloc[:, -1]"
   ]
  },
  {
   "cell_type": "code",
   "execution_count": 186,
   "metadata": {},
   "outputs": [
    {
     "data": {
      "text/plain": [
       "0          normal\n",
       "22         normal\n",
       "29         normal\n",
       "44         normal\n",
       "85         normal\n",
       "           ...   \n",
       "100332     normal\n",
       "100338     normal\n",
       "100362     normal\n",
       "100380    hateful\n",
       "100385     normal\n",
       "Name: hate_label, Length: 4971, dtype: object"
      ]
     },
     "execution_count": 186,
     "metadata": {},
     "output_type": "execute_result"
    }
   ],
   "source": [
    "labels"
   ]
  },
  {
   "cell_type": "code",
   "execution_count": 102,
   "metadata": {},
   "outputs": [],
   "source": [
    "scaler = StandardScaler()\n",
    "scaled_features = scaler.fit_transform(features)\n"
   ]
  },
  {
   "cell_type": "code",
   "execution_count": 103,
   "metadata": {},
   "outputs": [],
   "source": [
    "label_encoder = LabelEncoder()\n",
    "labels_encoded = label_encoder.fit_transform(labels)\n",
    "\n"
   ]
  },
  {
   "cell_type": "code",
   "execution_count": 104,
   "metadata": {},
   "outputs": [],
   "source": [
    "\n",
    "X_train, X_test, y_train, y_test = train_test_split(scaled_features, labels_encoded, test_size=0.2, random_state=42)"
   ]
  },
  {
   "cell_type": "code",
   "execution_count": null,
   "metadata": {},
   "outputs": [],
   "source": []
  },
  {
   "cell_type": "code",
   "execution_count": null,
   "metadata": {},
   "outputs": [],
   "source": []
  },
  {
   "cell_type": "code",
   "execution_count": 105,
   "metadata": {},
   "outputs": [
    {
     "data": {
      "text/plain": [
       "hate_label\n",
       "normal     4427\n",
       "hateful     544\n",
       "Name: count, dtype: int64"
      ]
     },
     "execution_count": 105,
     "metadata": {},
     "output_type": "execute_result"
    }
   ],
   "source": [
    "data['hate_label'].value_counts()"
   ]
  },
  {
   "cell_type": "code",
   "execution_count": 106,
   "metadata": {},
   "outputs": [
    {
     "name": "stdout",
     "output_type": "stream",
     "text": [
      "0          normal\n",
      "22         normal\n",
      "29         normal\n",
      "44         normal\n",
      "85         normal\n",
      "           ...   \n",
      "100332     normal\n",
      "100338     normal\n",
      "100362     normal\n",
      "100380    hateful\n",
      "100385     normal\n",
      "Name: hate_label, Length: 4971, dtype: object\n"
     ]
    },
    {
     "data": {
      "image/png": "[encoded data removed]",
      "text/plain": [
       "<Figure size 800x800 with 1 Axes>"
      ]
     },
     "metadata": {},
     "output_type": "display_data"
    }
   ],
   "source": [
    "import matplotlib.pyplot as plt\n",
    "label_counts = data['hate_label'].value_counts()\n",
    "\n",
    "\n",
    "labels_name = ['Normal Tweets','Hatefull Tweets']\n",
    "counts = label_counts.values\n",
    "\n",
    "print(labels)\n",
    "\n",
    "plt.figure(figsize=(8, 8))\n",
    "plt.pie(counts, labels=labels_name, autopct='%1.1f%%', startangle=140)\n",
    "plt.title('Distribution of Labels')\n",
    "plt.axis('equal')\n",
    "plt.show()"
   ]
  },
  {
   "cell_type": "code",
   "execution_count": 107,
   "metadata": {},
   "outputs": [],
   "source": [
    "df_features = pd.read_csv(r'C:\\Users\\hs414\\OneDrive\\Desktop\\Major_2024\\data\\hate\\users_neighborhood_anon.csv')"
   ]
  },
  {
   "cell_type": "code",
   "execution_count": null,
   "metadata": {},
   "outputs": [],
   "source": []
  },
  {
   "cell_type": "code",
   "execution_count": 108,
   "metadata": {},
   "outputs": [
    {
     "data": {
      "text/plain": [
       "array([4.56893382, 0.56144116])"
      ]
     },
     "execution_count": 108,
     "metadata": {},
     "output_type": "execute_result"
    }
   ],
   "source": [
    "from sklearn.utils import class_weight\n",
    "\n",
    "\n",
    "# Calculate class weights\n",
    "class_weights = class_weight.compute_class_weight('balanced', classes=np.unique(labels_encoded), y=labels_encoded)\n",
    "class_weights"
   ]
  },
  {
   "cell_type": "code",
   "execution_count": 109,
   "metadata": {},
   "outputs": [
    {
     "data": {
      "text/plain": [
       "array(['hateful', 'normal'], dtype=object)"
      ]
     },
     "execution_count": 109,
     "metadata": {},
     "output_type": "execute_result"
    }
   ],
   "source": [
    "label_encoder.classes_"
   ]
  },
  {
   "cell_type": "markdown",
   "metadata": {},
   "source": [
    "## Using Logistic regression with calculated class weights on the feature set"
   ]
  },
  {
   "cell_type": "code",
   "execution_count": 110,
   "metadata": {},
   "outputs": [
    {
     "name": "stdout",
     "output_type": "stream",
     "text": [
      "              precision    recall  f1-score   support\n",
      "\n",
      "           0       0.39      0.79      0.53       112\n",
      "           1       0.97      0.84      0.90       883\n",
      "\n",
      "    accuracy                           0.84       995\n",
      "   macro avg       0.68      0.82      0.71       995\n",
      "weighted avg       0.90      0.84      0.86       995\n",
      "\n"
     ]
    },
    {
     "name": "stderr",
     "output_type": "stream",
     "text": [
      "c:\\Users\\hs414\\OneDrive\\Desktop\\Major_2024\\venv\\Lib\\site-packages\\sklearn\\linear_model\\_logistic.py:469: ConvergenceWarning: lbfgs failed to converge (status=1):\n",
      "STOP: TOTAL NO. of ITERATIONS REACHED LIMIT.\n",
      "\n",
      "Increase the number of iterations (max_iter) or scale the data as shown in:\n",
      "    https://scikit-learn.org/stable/modules/preprocessing.html\n",
      "Please also refer to the documentation for alternative solver options:\n",
      "    https://scikit-learn.org/stable/modules/linear_model.html#logistic-regression\n",
      "  n_iter_i = _check_optimize_result(\n"
     ]
    }
   ],
   "source": [
    "from sklearn.linear_model import LogisticRegression\n",
    "from sklearn.model_selection import train_test_split\n",
    "from sklearn.metrics import classification_report\n",
    "\n",
    "# Assuming X_train, X_test, y_train, y_test are your training and testing data\n",
    "X_train, X_test, y_train, y_test = train_test_split(scaled_features, labels_encoded, test_size=0.2, random_state=42)\n",
    "\n",
    "# Define logistic regression classifier with class weights\n",
    "lr = LogisticRegression(class_weight=dict(enumerate(class_weights)))\n",
    "\n",
    "# Train the model\n",
    "lr.fit(X_train, y_train)\n",
    "\n",
    "# Predictions\n",
    "y_pred = lr.predict(X_test)\n",
    "\n",
    "# Evaluation\n",
    "print(classification_report(y_test, y_pred))"
   ]
  },
  {
   "cell_type": "markdown",
   "metadata": {},
   "source": [
    "## Using Random Forest Classifier on the Dataset"
   ]
  },
  {
   "cell_type": "code",
   "execution_count": 111,
   "metadata": {},
   "outputs": [
    {
     "name": "stdout",
     "output_type": "stream",
     "text": [
      "              precision    recall  f1-score   support\n",
      "\n",
      "           0       0.87      0.35      0.50       112\n",
      "           1       0.92      0.99      0.96       883\n",
      "\n",
      "    accuracy                           0.92       995\n",
      "   macro avg       0.89      0.67      0.73       995\n",
      "weighted avg       0.92      0.92      0.91       995\n",
      "\n"
     ]
    }
   ],
   "source": [
    "rf = RandomForestClassifier(class_weight=dict(enumerate(class_weights)))\n",
    "\n",
    "# Train the model\n",
    "rf.fit(X_train, y_train)\n",
    "\n",
    "# Predictions\n",
    "y_pred = rf.predict(X_test)\n",
    "\n",
    "# Evaluation\n",
    "print(classification_report(y_test, y_pred))"
   ]
  },
  {
   "cell_type": "markdown",
   "metadata": {},
   "source": [
    "## Support Vector Classifier on the Dataset"
   ]
  },
  {
   "cell_type": "code",
   "execution_count": 112,
   "metadata": {},
   "outputs": [
    {
     "name": "stdout",
     "output_type": "stream",
     "text": [
      "              precision    recall  f1-score   support\n",
      "\n",
      "           0       0.49      0.82      0.61       112\n",
      "           1       0.98      0.89      0.93       883\n",
      "\n",
      "    accuracy                           0.88       995\n",
      "   macro avg       0.73      0.86      0.77       995\n",
      "weighted avg       0.92      0.88      0.89       995\n",
      "\n"
     ]
    }
   ],
   "source": [
    "from sklearn.svm import SVC\n",
    "from sklearn.model_selection import train_test_split\n",
    "from sklearn.metrics import classification_report\n",
    "\n",
    "\n",
    "svm = SVC(class_weight=dict(enumerate(class_weights)))\n",
    "svm.fit(X_train, y_train)\n",
    "\n",
    "y_pred = svm.predict(X_test)\n",
    "\n",
    "# Evaluation\n",
    "print(classification_report(y_test, y_pred))"
   ]
  },
  {
   "cell_type": "markdown",
   "metadata": {},
   "source": [
    "## Using Decision Tree Classifier on the Dataset"
   ]
  },
  {
   "cell_type": "code",
   "execution_count": 113,
   "metadata": {},
   "outputs": [
    {
     "name": "stdout",
     "output_type": "stream",
     "text": [
      "              precision    recall  f1-score   support\n",
      "\n",
      "           0       0.45      0.44      0.44       112\n",
      "           1       0.93      0.93      0.93       883\n",
      "\n",
      "    accuracy                           0.88       995\n",
      "   macro avg       0.69      0.68      0.69       995\n",
      "weighted avg       0.87      0.88      0.88       995\n",
      "\n"
     ]
    }
   ],
   "source": [
    "dt = DecisionTreeClassifier(class_weight=dict(enumerate(class_weights)))\n",
    "\n",
    "# Train the model\n",
    "dt.fit(X_train, y_train)\n",
    "\n",
    "# Predictions\n",
    "y_pred = dt.predict(X_test)\n",
    "\n",
    "# Evaluation\n",
    "print(classification_report(y_test, y_pred))"
   ]
  },
  {
   "cell_type": "markdown",
   "metadata": {},
   "source": [
    "## Using Smote on the dataset and then re evaluating using other algorithms"
   ]
  },
  {
   "cell_type": "code",
   "execution_count": 114,
   "metadata": {},
   "outputs": [],
   "source": [
    "from imblearn.over_sampling import SMOTE\n",
    "\n",
    "smote = SMOTE(random_state=42)\n",
    "X_train_smote, y_train_smote = smote.fit_resample(X_train, y_train)"
   ]
  },
  {
   "cell_type": "markdown",
   "metadata": {},
   "source": [
    "## Using Logistic Regression on Dataset after applying SMOTE"
   ]
  },
  {
   "cell_type": "code",
   "execution_count": 115,
   "metadata": {},
   "outputs": [
    {
     "name": "stdout",
     "output_type": "stream",
     "text": [
      "              precision    recall  f1-score   support\n",
      "\n",
      "           0       0.39      0.74      0.51       112\n",
      "           1       0.96      0.86      0.91       883\n",
      "\n",
      "    accuracy                           0.84       995\n",
      "   macro avg       0.68      0.80      0.71       995\n",
      "weighted avg       0.90      0.84      0.86       995\n",
      "\n"
     ]
    },
    {
     "name": "stderr",
     "output_type": "stream",
     "text": [
      "c:\\Users\\hs414\\OneDrive\\Desktop\\Major_2024\\venv\\Lib\\site-packages\\sklearn\\linear_model\\_logistic.py:469: ConvergenceWarning: lbfgs failed to converge (status=1):\n",
      "STOP: TOTAL NO. of ITERATIONS REACHED LIMIT.\n",
      "\n",
      "Increase the number of iterations (max_iter) or scale the data as shown in:\n",
      "    https://scikit-learn.org/stable/modules/preprocessing.html\n",
      "Please also refer to the documentation for alternative solver options:\n",
      "    https://scikit-learn.org/stable/modules/linear_model.html#logistic-regression\n",
      "  n_iter_i = _check_optimize_result(\n"
     ]
    }
   ],
   "source": [
    "from sklearn.linear_model import LogisticRegression\n",
    "\n",
    "# Instantiate the model with class weights\n",
    "lr = LogisticRegression()\n",
    "\n",
    "# Train the model\n",
    "lr.fit(X_train_smote, y_train_smote)\n",
    "\n",
    "# Predictions\n",
    "y_pred = lr.predict(X_test)\n",
    "\n",
    "# Evaluation\n",
    "print(classification_report(y_test, y_pred))"
   ]
  },
  {
   "cell_type": "markdown",
   "metadata": {},
   "source": [
    "## Using Random Forest Classifier"
   ]
  },
  {
   "cell_type": "code",
   "execution_count": 116,
   "metadata": {},
   "outputs": [
    {
     "name": "stdout",
     "output_type": "stream",
     "text": [
      "              precision    recall  f1-score   support\n",
      "\n",
      "           0       0.61      0.55      0.58       112\n",
      "           1       0.94      0.96      0.95       883\n",
      "\n",
      "    accuracy                           0.91       995\n",
      "   macro avg       0.78      0.75      0.77       995\n",
      "weighted avg       0.91      0.91      0.91       995\n",
      "\n"
     ]
    }
   ],
   "source": [
    "rf = RandomForestClassifier()\n",
    "\n",
    "# Train the model\n",
    "rf.fit(X_train_smote, y_train_smote)\n",
    "\n",
    "# Predictions\n",
    "y_pred = rf.predict(X_test)\n",
    "\n",
    "# Evaluation\n",
    "print(classification_report(y_test, y_pred))"
   ]
  },
  {
   "cell_type": "markdown",
   "metadata": {},
   "source": [
    "## Using Naive Bayes Algorithm"
   ]
  },
  {
   "cell_type": "code",
   "execution_count": 117,
   "metadata": {},
   "outputs": [
    {
     "name": "stdout",
     "output_type": "stream",
     "text": [
      "              precision    recall  f1-score   support\n",
      "\n",
      "           0       0.22      0.83      0.35       112\n",
      "           1       0.97      0.64      0.77       883\n",
      "\n",
      "    accuracy                           0.66       995\n",
      "   macro avg       0.60      0.73      0.56       995\n",
      "weighted avg       0.88      0.66      0.72       995\n",
      "\n"
     ]
    }
   ],
   "source": [
    "from sklearn.naive_bayes import GaussianNB\n",
    "\n",
    "# Instantiate the model\n",
    "nb = GaussianNB()\n",
    "\n",
    "# Train the model\n",
    "nb.fit(X_train_smote, y_train_smote)\n",
    "\n",
    "# Predictions\n",
    "y_pred = nb.predict(X_test)\n",
    "\n",
    "# Evaluation\n",
    "print(classification_report(y_test, y_pred))"
   ]
  },
  {
   "cell_type": "markdown",
   "metadata": {},
   "source": [
    "## Using K Nearest Neighbour Classifier"
   ]
  },
  {
   "cell_type": "code",
   "execution_count": 118,
   "metadata": {},
   "outputs": [
    {
     "name": "stdout",
     "output_type": "stream",
     "text": [
      "              precision    recall  f1-score   support\n",
      "\n",
      "           0       0.30      0.84      0.44       112\n",
      "           1       0.97      0.75      0.85       883\n",
      "\n",
      "    accuracy                           0.76       995\n",
      "   macro avg       0.64      0.80      0.65       995\n",
      "weighted avg       0.90      0.76      0.80       995\n",
      "\n"
     ]
    }
   ],
   "source": [
    "from sklearn.neighbors import KNeighborsClassifier\n",
    "\n",
    "# Instantiate the model\n",
    "knn = KNeighborsClassifier()\n",
    "\n",
    "# Train the model\n",
    "knn.fit(X_train_smote, y_train_smote)\n",
    "\n",
    "# Predictions\n",
    "y_pred = knn.predict(X_test)\n",
    "\n",
    "# Evaluation\n",
    "print(classification_report(y_test, y_pred))\n"
   ]
  },
  {
   "cell_type": "markdown",
   "metadata": {},
   "source": [
    "## Using Decision Tree Classifier"
   ]
  },
  {
   "cell_type": "code",
   "execution_count": 119,
   "metadata": {},
   "outputs": [
    {
     "name": "stdout",
     "output_type": "stream",
     "text": [
      "              precision    recall  f1-score   support\n",
      "\n",
      "           0       0.36      0.55      0.44       112\n",
      "           1       0.94      0.88      0.91       883\n",
      "\n",
      "    accuracy                           0.84       995\n",
      "   macro avg       0.65      0.72      0.67       995\n",
      "weighted avg       0.87      0.84      0.85       995\n",
      "\n"
     ]
    }
   ],
   "source": [
    "from sklearn.tree import DecisionTreeClassifier\n",
    "\n",
    "# Instantiate the model with class weights\n",
    "dt = DecisionTreeClassifier(class_weight='balanced')\n",
    "\n",
    "# Train the model\n",
    "dt.fit(X_train_smote, y_train_smote)\n",
    "\n",
    "# Predictions\n",
    "y_pred = dt.predict(X_test)\n",
    "\n",
    "# Evaluation\n",
    "print(classification_report(y_test, y_pred))\n"
   ]
  },
  {
   "cell_type": "markdown",
   "metadata": {},
   "source": [
    "## Using ADA BOOST"
   ]
  },
  {
   "cell_type": "code",
   "execution_count": 120,
   "metadata": {},
   "outputs": [
    {
     "name": "stderr",
     "output_type": "stream",
     "text": [
      "c:\\Users\\hs414\\OneDrive\\Desktop\\Major_2024\\venv\\Lib\\site-packages\\sklearn\\ensemble\\_weight_boosting.py:519: FutureWarning: The SAMME.R algorithm (the default) is deprecated and will be removed in 1.6. Use the SAMME algorithm to circumvent this warning.\n",
      "  warnings.warn(\n"
     ]
    },
    {
     "name": "stdout",
     "output_type": "stream",
     "text": [
      "              precision    recall  f1-score   support\n",
      "\n",
      "           0       0.39      0.71      0.51       112\n",
      "           1       0.96      0.86      0.91       883\n",
      "\n",
      "    accuracy                           0.84       995\n",
      "   macro avg       0.68      0.79      0.71       995\n",
      "weighted avg       0.90      0.84      0.86       995\n",
      "\n"
     ]
    }
   ],
   "source": [
    "from sklearn.ensemble import AdaBoostClassifier\n",
    "\n",
    "# Instantiate the model\n",
    "ada = AdaBoostClassifier()\n",
    "\n",
    "# Train the model\n",
    "ada.fit(X_train_smote, y_train_smote)\n",
    "\n",
    "# Predictions\n",
    "y_pred = ada.predict(X_test)\n",
    "\n",
    "# Evaluation\n",
    "print(classification_report(y_test, y_pred))"
   ]
  },
  {
   "cell_type": "markdown",
   "metadata": {},
   "source": [
    "# Since we can see that applying class weights gives better accuracy and f1 scores than using synthetic minority oversampling  technique (SMOTE), we will consider class_weights to be appropriate for the following data set"
   ]
  },
  {
   "cell_type": "markdown",
   "metadata": {},
   "source": [
    "## Now lets try under sampling the data"
   ]
  },
  {
   "cell_type": "code",
   "execution_count": 121,
   "metadata": {},
   "outputs": [
    {
     "data": {
      "text/html": [
       "<div>\n",
       "<style scoped>\n",
       "    .dataframe tbody tr th:only-of-type {\n",
       "        vertical-align: middle;\n",
       "    }\n",
       "\n",
       "    .dataframe tbody tr th {\n",
       "        vertical-align: top;\n",
       "    }\n",
       "\n",
       "    .dataframe thead th {\n",
       "        text-align: right;\n",
       "    }\n",
       "</style>\n",
       "<table border=\"1\" class=\"dataframe\">\n",
       "  <thead>\n",
       "    <tr style=\"text-align: right;\">\n",
       "      <th></th>\n",
       "      <th>user_id</th>\n",
       "      <th>1</th>\n",
       "      <th>2</th>\n",
       "      <th>3</th>\n",
       "      <th>4</th>\n",
       "      <th>5</th>\n",
       "      <th>6</th>\n",
       "      <th>7</th>\n",
       "      <th>8</th>\n",
       "      <th>9</th>\n",
       "      <th>...</th>\n",
       "      <th>292</th>\n",
       "      <th>293</th>\n",
       "      <th>294</th>\n",
       "      <th>295</th>\n",
       "      <th>296</th>\n",
       "      <th>297</th>\n",
       "      <th>298</th>\n",
       "      <th>299</th>\n",
       "      <th>300</th>\n",
       "      <th>hate_label</th>\n",
       "    </tr>\n",
       "  </thead>\n",
       "  <tbody>\n",
       "    <tr>\n",
       "      <th>0</th>\n",
       "      <td>0</td>\n",
       "      <td>-1.089073</td>\n",
       "      <td>-0.819852</td>\n",
       "      <td>-0.892742</td>\n",
       "      <td>-1.340293</td>\n",
       "      <td>-0.062930</td>\n",
       "      <td>0.328899</td>\n",
       "      <td>0.253635</td>\n",
       "      <td>0.115707</td>\n",
       "      <td>-0.727039</td>\n",
       "      <td>...</td>\n",
       "      <td>-0.185449</td>\n",
       "      <td>-1.034164</td>\n",
       "      <td>-0.923736</td>\n",
       "      <td>0.068635</td>\n",
       "      <td>1.911311</td>\n",
       "      <td>-1.025432</td>\n",
       "      <td>-0.438166</td>\n",
       "      <td>0.582276</td>\n",
       "      <td>0.765071</td>\n",
       "      <td>normal</td>\n",
       "    </tr>\n",
       "    <tr>\n",
       "      <th>22</th>\n",
       "      <td>22</td>\n",
       "      <td>-0.020976</td>\n",
       "      <td>-0.658948</td>\n",
       "      <td>-1.183166</td>\n",
       "      <td>-2.388986</td>\n",
       "      <td>0.506060</td>\n",
       "      <td>0.732390</td>\n",
       "      <td>0.298279</td>\n",
       "      <td>-1.706375</td>\n",
       "      <td>-0.149522</td>\n",
       "      <td>...</td>\n",
       "      <td>-1.982040</td>\n",
       "      <td>-1.307111</td>\n",
       "      <td>-1.613784</td>\n",
       "      <td>0.869954</td>\n",
       "      <td>-0.547563</td>\n",
       "      <td>-0.430940</td>\n",
       "      <td>0.233932</td>\n",
       "      <td>1.112722</td>\n",
       "      <td>0.660885</td>\n",
       "      <td>normal</td>\n",
       "    </tr>\n",
       "    <tr>\n",
       "      <th>29</th>\n",
       "      <td>29</td>\n",
       "      <td>1.257068</td>\n",
       "      <td>0.523684</td>\n",
       "      <td>-0.423057</td>\n",
       "      <td>-0.642238</td>\n",
       "      <td>-0.072245</td>\n",
       "      <td>-0.471483</td>\n",
       "      <td>-0.338337</td>\n",
       "      <td>0.107110</td>\n",
       "      <td>-1.360391</td>\n",
       "      <td>...</td>\n",
       "      <td>-0.118747</td>\n",
       "      <td>0.323238</td>\n",
       "      <td>-1.461468</td>\n",
       "      <td>-0.324437</td>\n",
       "      <td>0.767427</td>\n",
       "      <td>-0.020313</td>\n",
       "      <td>-0.047015</td>\n",
       "      <td>1.172450</td>\n",
       "      <td>-0.757194</td>\n",
       "      <td>normal</td>\n",
       "    </tr>\n",
       "    <tr>\n",
       "      <th>44</th>\n",
       "      <td>44</td>\n",
       "      <td>-0.383711</td>\n",
       "      <td>-0.027758</td>\n",
       "      <td>1.823646</td>\n",
       "      <td>0.944793</td>\n",
       "      <td>0.759426</td>\n",
       "      <td>1.631036</td>\n",
       "      <td>0.775020</td>\n",
       "      <td>0.550644</td>\n",
       "      <td>0.298231</td>\n",
       "      <td>...</td>\n",
       "      <td>-0.872055</td>\n",
       "      <td>0.131165</td>\n",
       "      <td>0.554441</td>\n",
       "      <td>-0.865574</td>\n",
       "      <td>0.555545</td>\n",
       "      <td>0.219754</td>\n",
       "      <td>1.394477</td>\n",
       "      <td>-1.372494</td>\n",
       "      <td>0.165514</td>\n",
       "      <td>normal</td>\n",
       "    </tr>\n",
       "    <tr>\n",
       "      <th>85</th>\n",
       "      <td>85</td>\n",
       "      <td>-0.210998</td>\n",
       "      <td>-0.514974</td>\n",
       "      <td>0.184683</td>\n",
       "      <td>0.451372</td>\n",
       "      <td>-0.594404</td>\n",
       "      <td>-0.377794</td>\n",
       "      <td>-0.113593</td>\n",
       "      <td>0.553205</td>\n",
       "      <td>-0.789661</td>\n",
       "      <td>...</td>\n",
       "      <td>-0.039548</td>\n",
       "      <td>-0.004352</td>\n",
       "      <td>0.188056</td>\n",
       "      <td>-0.084436</td>\n",
       "      <td>-0.228187</td>\n",
       "      <td>-0.505434</td>\n",
       "      <td>0.323775</td>\n",
       "      <td>-0.373355</td>\n",
       "      <td>0.058962</td>\n",
       "      <td>normal</td>\n",
       "    </tr>\n",
       "  </tbody>\n",
       "</table>\n",
       "<p>5 rows × 302 columns</p>\n",
       "</div>"
      ],
      "text/plain": [
       "    user_id         1         2         3         4         5         6  \\\n",
       "0         0 -1.089073 -0.819852 -0.892742 -1.340293 -0.062930  0.328899   \n",
       "22       22 -0.020976 -0.658948 -1.183166 -2.388986  0.506060  0.732390   \n",
       "29       29  1.257068  0.523684 -0.423057 -0.642238 -0.072245 -0.471483   \n",
       "44       44 -0.383711 -0.027758  1.823646  0.944793  0.759426  1.631036   \n",
       "85       85 -0.210998 -0.514974  0.184683  0.451372 -0.594404 -0.377794   \n",
       "\n",
       "           7         8         9  ...       292       293       294       295  \\\n",
       "0   0.253635  0.115707 -0.727039  ... -0.185449 -1.034164 -0.923736  0.068635   \n",
       "22  0.298279 -1.706375 -0.149522  ... -1.982040 -1.307111 -1.613784  0.869954   \n",
       "29 -0.338337  0.107110 -1.360391  ... -0.118747  0.323238 -1.461468 -0.324437   \n",
       "44  0.775020  0.550644  0.298231  ... -0.872055  0.131165  0.554441 -0.865574   \n",
       "85 -0.113593  0.553205 -0.789661  ... -0.039548 -0.004352  0.188056 -0.084436   \n",
       "\n",
       "         296       297       298       299       300  hate_label  \n",
       "0   1.911311 -1.025432 -0.438166  0.582276  0.765071      normal  \n",
       "22 -0.547563 -0.430940  0.233932  1.112722  0.660885      normal  \n",
       "29  0.767427 -0.020313 -0.047015  1.172450 -0.757194      normal  \n",
       "44  0.555545  0.219754  1.394477 -1.372494  0.165514      normal  \n",
       "85 -0.228187 -0.505434  0.323775 -0.373355  0.058962      normal  \n",
       "\n",
       "[5 rows x 302 columns]"
      ]
     },
     "execution_count": 121,
     "metadata": {},
     "output_type": "execute_result"
    }
   ],
   "source": [
    "data.head()"
   ]
  },
  {
   "cell_type": "code",
   "execution_count": 122,
   "metadata": {},
   "outputs": [],
   "source": [
    "minority_class = data[data['hate_label'] == 'hateful']\n",
    "majority_class = data[data['hate_label'] == 'normal']"
   ]
  },
  {
   "cell_type": "code",
   "execution_count": 123,
   "metadata": {},
   "outputs": [],
   "source": [
    "from sklearn.utils import resample\n",
    "majority_downsample = resample(majority_class, replace=False, n_samples=len(minority_class), random_state=42)"
   ]
  },
  {
   "cell_type": "code",
   "execution_count": 124,
   "metadata": {},
   "outputs": [
    {
     "data": {
      "text/plain": [
       "(1088, 302)"
      ]
     },
     "execution_count": 124,
     "metadata": {},
     "output_type": "execute_result"
    }
   ],
   "source": [
    "downsampled_df = pd.concat([majority_downsample, minority_class])\n",
    "downsampled_df.shape"
   ]
  },
  {
   "cell_type": "code",
   "execution_count": 125,
   "metadata": {},
   "outputs": [],
   "source": [
    "features = downsampled_df.iloc[:, 1:301]\n",
    "labels = downsampled_df.iloc[:, -1]"
   ]
  },
  {
   "cell_type": "code",
   "execution_count": 126,
   "metadata": {},
   "outputs": [],
   "source": [
    "labels_encoded = label_encoder.fit_transform(labels)\n",
    "scaled_features = scaler.fit_transform(features)"
   ]
  },
  {
   "cell_type": "code",
   "execution_count": 127,
   "metadata": {},
   "outputs": [],
   "source": [
    "X_train, X_test, y_train, y_test = train_test_split(scaled_features, labels_encoded, test_size=0.2, random_state=42)"
   ]
  },
  {
   "cell_type": "code",
   "execution_count": 128,
   "metadata": {},
   "outputs": [
    {
     "name": "stdout",
     "output_type": "stream",
     "text": [
      "              precision    recall  f1-score   support\n",
      "\n",
      "           0       0.72      0.78      0.75       102\n",
      "           1       0.79      0.73      0.76       116\n",
      "\n",
      "    accuracy                           0.76       218\n",
      "   macro avg       0.76      0.76      0.76       218\n",
      "weighted avg       0.76      0.76      0.76       218\n",
      "\n"
     ]
    },
    {
     "name": "stderr",
     "output_type": "stream",
     "text": [
      "c:\\Users\\hs414\\OneDrive\\Desktop\\Major_2024\\venv\\Lib\\site-packages\\sklearn\\linear_model\\_logistic.py:469: ConvergenceWarning: lbfgs failed to converge (status=1):\n",
      "STOP: TOTAL NO. of ITERATIONS REACHED LIMIT.\n",
      "\n",
      "Increase the number of iterations (max_iter) or scale the data as shown in:\n",
      "    https://scikit-learn.org/stable/modules/preprocessing.html\n",
      "Please also refer to the documentation for alternative solver options:\n",
      "    https://scikit-learn.org/stable/modules/linear_model.html#logistic-regression\n",
      "  n_iter_i = _check_optimize_result(\n"
     ]
    }
   ],
   "source": [
    "from sklearn.linear_model import LogisticRegression\n",
    "\n",
    "# Instantiate the model with class weights\n",
    "lr = LogisticRegression()\n",
    "\n",
    "# Train the model\n",
    "lr.fit(X_train, y_train)\n",
    "\n",
    "# Predictions\n",
    "y_pred = lr.predict(X_test)\n",
    "\n",
    "# Evaluation\n",
    "print(classification_report(y_test, y_pred))"
   ]
  },
  {
   "cell_type": "code",
   "execution_count": 129,
   "metadata": {},
   "outputs": [
    {
     "name": "stdout",
     "output_type": "stream",
     "text": [
      "              precision    recall  f1-score   support\n",
      "\n",
      "           0       0.80      0.77      0.79       102\n",
      "           1       0.81      0.83      0.82       116\n",
      "\n",
      "    accuracy                           0.80       218\n",
      "   macro avg       0.80      0.80      0.80       218\n",
      "weighted avg       0.80      0.80      0.80       218\n",
      "\n"
     ]
    }
   ],
   "source": [
    "rf = RandomForestClassifier()\n",
    "\n",
    "# Train the model\n",
    "rf.fit(X_train, y_train)\n",
    "\n",
    "# Predictions\n",
    "y_pred = rf.predict(X_test)\n",
    "\n",
    "# Evaluation\n",
    "print(classification_report(y_test, y_pred))"
   ]
  },
  {
   "cell_type": "code",
   "execution_count": 130,
   "metadata": {},
   "outputs": [
    {
     "name": "stdout",
     "output_type": "stream",
     "text": [
      "              precision    recall  f1-score   support\n",
      "\n",
      "           0       0.75      0.69      0.72       102\n",
      "           1       0.74      0.80      0.77       116\n",
      "\n",
      "    accuracy                           0.75       218\n",
      "   macro avg       0.75      0.74      0.74       218\n",
      "weighted avg       0.75      0.75      0.75       218\n",
      "\n"
     ]
    }
   ],
   "source": [
    "from sklearn.naive_bayes import GaussianNB\n",
    "\n",
    "# Instantiate the model\n",
    "nb = GaussianNB()\n",
    "\n",
    "# Train the model\n",
    "nb.fit(X_train_smote, y_train_smote)\n",
    "\n",
    "# Predictions\n",
    "y_pred = nb.predict(X_test)\n",
    "\n",
    "# Evaluation\n",
    "print(classification_report(y_test, y_pred))"
   ]
  },
  {
   "cell_type": "code",
   "execution_count": 131,
   "metadata": {},
   "outputs": [
    {
     "name": "stdout",
     "output_type": "stream",
     "text": [
      "              precision    recall  f1-score   support\n",
      "\n",
      "           0       0.76      0.85      0.80       102\n",
      "           1       0.85      0.76      0.80       116\n",
      "\n",
      "    accuracy                           0.80       218\n",
      "   macro avg       0.81      0.81      0.80       218\n",
      "weighted avg       0.81      0.80      0.80       218\n",
      "\n"
     ]
    }
   ],
   "source": [
    "from sklearn.neighbors import KNeighborsClassifier\n",
    "\n",
    "# Instantiate the model\n",
    "knn = KNeighborsClassifier()\n",
    "\n",
    "# Train the model\n",
    "knn.fit(X_train, y_train)\n",
    "\n",
    "# Predictions\n",
    "y_pred = knn.predict(X_test)\n",
    "\n",
    "# Evaluation\n",
    "print(classification_report(y_test, y_pred))"
   ]
  },
  {
   "cell_type": "code",
   "execution_count": 132,
   "metadata": {},
   "outputs": [
    {
     "name": "stdout",
     "output_type": "stream",
     "text": [
      "              precision    recall  f1-score   support\n",
      "\n",
      "           0       0.65      0.71      0.68       102\n",
      "           1       0.72      0.66      0.69       116\n",
      "\n",
      "    accuracy                           0.68       218\n",
      "   macro avg       0.68      0.68      0.68       218\n",
      "weighted avg       0.69      0.68      0.68       218\n",
      "\n"
     ]
    }
   ],
   "source": [
    "from sklearn.tree import DecisionTreeClassifier\n",
    "\n",
    "# Instantiate the model with class weights\n",
    "dt = DecisionTreeClassifier(class_weight='balanced')\n",
    "\n",
    "# Train the model\n",
    "dt.fit(X_train, y_train)\n",
    "\n",
    "# Predictions\n",
    "y_pred = dt.predict(X_test)\n",
    "\n",
    "# Evaluation\n",
    "print(classification_report(y_test, y_pred))"
   ]
  },
  {
   "cell_type": "code",
   "execution_count": 133,
   "metadata": {},
   "outputs": [
    {
     "name": "stderr",
     "output_type": "stream",
     "text": [
      "c:\\Users\\hs414\\OneDrive\\Desktop\\Major_2024\\venv\\Lib\\site-packages\\sklearn\\ensemble\\_weight_boosting.py:519: FutureWarning: The SAMME.R algorithm (the default) is deprecated and will be removed in 1.6. Use the SAMME algorithm to circumvent this warning.\n",
      "  warnings.warn(\n"
     ]
    },
    {
     "name": "stdout",
     "output_type": "stream",
     "text": [
      "              precision    recall  f1-score   support\n",
      "\n",
      "           0       0.70      0.75      0.72       102\n",
      "           1       0.76      0.72      0.74       116\n",
      "\n",
      "    accuracy                           0.73       218\n",
      "   macro avg       0.73      0.73      0.73       218\n",
      "weighted avg       0.73      0.73      0.73       218\n",
      "\n"
     ]
    }
   ],
   "source": [
    "from sklearn.ensemble import AdaBoostClassifier\n",
    "\n",
    "# Instantiate the model\n",
    "ada = AdaBoostClassifier()\n",
    "\n",
    "# Train the model\n",
    "ada.fit(X_train, y_train)\n",
    "\n",
    "# Predictions\n",
    "y_pred = ada.predict(X_test)\n",
    "\n",
    "# Evaluation\n",
    "print(classification_report(y_test, y_pred))"
   ]
  },
  {
   "cell_type": "code",
   "execution_count": 134,
   "metadata": {},
   "outputs": [
    {
     "data": {
      "image/png": "[encoded data removed]",
      "text/plain": [
       "<Figure size 640x480 with 1 Axes>"
      ]
     },
     "metadata": {},
     "output_type": "display_data"
    }
   ],
   "source": [
    "import networkx as nx\n",
    "H = nx.DiGraph()\n",
    "\n",
    "#adding nodes\n",
    "H.add_nodes_from([\n",
    "  (0, {\"color\": \"blue\", \"size\": 250}),\n",
    "\n",
    "  (1, {\"color\": \"yellow\", \"size\": 400}),\n",
    "\n",
    "  (2, {\"color\": \"orange\", \"size\": 150}),\n",
    "\n",
    "  (3, {\"color\": \"red\", \"size\": 600})\n",
    "\n",
    "\n",
    "])\n",
    "\n",
    "#adding edges\n",
    "H.add_edges_from([\n",
    "  (0, 1),\n",
    "\n",
    "  (1, 2),\n",
    "\n",
    "  (1, 0),\n",
    "\n",
    "  (1, 3),\n",
    "\n",
    "  (2, 3),\n",
    "\n",
    "  (3,0)\n",
    "\n",
    "\n",
    "])\n",
    "\n",
    "node_colors = nx.get_node_attributes(H, \"color\").values()\n",
    "colors = list(node_colors)\n",
    "node_sizes = nx.get_node_attributes(H, \"size\").values()\n",
    "sizes = list(node_sizes)\n",
    "\n",
    "#Plotting Graph\n",
    "nx.draw(H, with_labels=True, node_color=colors, node_size=sizes)"
   ]
  },
  {
   "cell_type": "markdown",
   "metadata": {},
   "source": [
    "## Using BiLSTM on the given data set using set class weights"
   ]
  },
  {
   "cell_type": "code",
   "execution_count": 168,
   "metadata": {},
   "outputs": [],
   "source": [
    "features = data.iloc[:, 1:301]\n",
    "labels = data.iloc[:, -1]\n",
    "labels_encoded = label_encoder.fit_transform(labels)\n",
    "scaled_features = scaler.fit_transform(features)\n",
    "X_train, X_test, y_train, y_test = train_test_split(scaled_features, labels_encoded, test_size=0.2, random_state=42)\n",
    "X_train = np.reshape(X_train, (X_train.shape[0], X_train.shape[1], 1))\n",
    "X_test = np.reshape(X_test, (X_test.shape[0], X_test.shape[1], 1))"
   ]
  },
  {
   "cell_type": "code",
   "execution_count": null,
   "metadata": {},
   "outputs": [],
   "source": [
    "\n"
   ]
  },
  {
   "cell_type": "code",
   "execution_count": 190,
   "metadata": {},
   "outputs": [
    {
     "name": "stdout",
     "output_type": "stream",
     "text": [
      "1485113\n"
     ]
    }
   ],
   "source": [
    "\n",
    "from tensorflow.keras.models import Sequential\n",
    "from tensorflow.keras.layers import Embedding, Reshape, LSTM, Dropout, Dense, Bidirectional\n",
    "\n",
    "embedding_dim = 100\n",
    "max_length = 300\n",
    "vocab_size = len(np.unique(scaled_features))+1\n",
    "print(vocab_size)\n",
    "model = Sequential([\n",
    "    # Embedding(vocab_size, embedding_dim, input_length=max_length),\n",
    "    # Reshape((max_length, embedding_dim)),\n",
    "    Bidirectional(LSTM(128, return_sequences=True)),\n",
    "    Dropout(0.3),\n",
    "    LSTM(128),\n",
    "    Dense(1, activation='softmax')\n",
    "])\n",
    "\n",
    "model.compile(loss='binary_crossentropy', optimizer='adam', metrics=['accuracy'])\n",
    "\n",
    "# print(model.summary())"
   ]
  },
  {
   "cell_type": "code",
   "execution_count": 192,
   "metadata": {},
   "outputs": [
    {
     "name": "stdout",
     "output_type": "stream",
     "text": [
      "Epoch 1/10\n",
      "125/125 [==============================] - 56s 446ms/step - loss: 0.6586 - accuracy: 0.8913 - val_loss: 0.5167 - val_accuracy: 0.8874\n",
      "Epoch 2/10\n",
      "125/125 [==============================] - 53s 421ms/step - loss: 0.6549 - accuracy: 0.8913 - val_loss: 0.8779 - val_accuracy: 0.8874\n",
      "Epoch 3/10\n",
      "125/125 [==============================] - 57s 453ms/step - loss: 0.6924 - accuracy: 0.8913 - val_loss: 0.8632 - val_accuracy: 0.8874\n",
      "Epoch 4/10\n",
      "125/125 [==============================] - 54s 432ms/step - loss: 0.6897 - accuracy: 0.8913 - val_loss: 0.7217 - val_accuracy: 0.8874\n",
      "Epoch 5/10\n",
      "125/125 [==============================] - 56s 447ms/step - loss: 0.6742 - accuracy: 0.8913 - val_loss: 0.8035 - val_accuracy: 0.8874\n",
      "Epoch 6/10\n",
      "125/125 [==============================] - 51s 406ms/step - loss: 0.6733 - accuracy: 0.8913 - val_loss: 0.5880 - val_accuracy: 0.8874\n",
      "Epoch 7/10\n",
      "125/125 [==============================] - 51s 412ms/step - loss: 0.6712 - accuracy: 0.8913 - val_loss: 0.7225 - val_accuracy: 0.8874\n",
      "Epoch 8/10\n",
      "125/125 [==============================] - 51s 410ms/step - loss: 0.6652 - accuracy: 0.8913 - val_loss: 0.6694 - val_accuracy: 0.8874\n",
      "Epoch 9/10\n",
      "125/125 [==============================] - 51s 410ms/step - loss: 0.6642 - accuracy: 0.8913 - val_loss: 0.6592 - val_accuracy: 0.8874\n",
      "Epoch 10/10\n",
      "125/125 [==============================] - 51s 412ms/step - loss: 0.6528 - accuracy: 0.8913 - val_loss: 0.5137 - val_accuracy: 0.8874\n"
     ]
    }
   ],
   "source": [
    "history = model.fit(X_train, y_train, validation_data=(X_test, y_test), epochs=10, batch_size=32,class_weight = dict(enumerate(class_weights)))"
   ]
  },
  {
   "cell_type": "code",
   "execution_count": 193,
   "metadata": {},
   "outputs": [
    {
     "data": {
      "image/png": "[encoded data removed]",
      "text/plain": [
       "<Figure size 640x480 with 1 Axes>"
      ]
     },
     "metadata": {},
     "output_type": "display_data"
    }
   ],
   "source": [
    "import matplotlib.pyplot as plt\n",
    "plt.plot(history.history['loss'], label='Training Loss')\n",
    "plt.plot(history.history['val_loss'], label='Validation Loss')\n",
    "plt.title('Training and Validation Loss')\n",
    "plt.xlabel('Epoch')\n",
    "plt.ylabel('Loss')\n",
    "plt.legend()\n",
    "plt.show()"
   ]
  },
  {
   "cell_type": "code",
   "execution_count": null,
   "metadata": {},
   "outputs": [],
   "source": []
  },
  {
   "cell_type": "code",
   "execution_count": null,
   "metadata": {},
   "outputs": [],
   "source": []
  },
  {
   "cell_type": "code",
   "execution_count": 184,
   "metadata": {},
   "outputs": [
    {
     "data": {
      "text/html": [
       "<div>\n",
       "<style scoped>\n",
       "    .dataframe tbody tr th:only-of-type {\n",
       "        vertical-align: middle;\n",
       "    }\n",
       "\n",
       "    .dataframe tbody tr th {\n",
       "        vertical-align: top;\n",
       "    }\n",
       "\n",
       "    .dataframe thead th {\n",
       "        text-align: right;\n",
       "    }\n",
       "</style>\n",
       "<table border=\"1\" class=\"dataframe\">\n",
       "  <thead>\n",
       "    <tr style=\"text-align: right;\">\n",
       "      <th></th>\n",
       "      <th>user_id</th>\n",
       "      <th>hate</th>\n",
       "      <th>hate_neigh</th>\n",
       "      <th>normal_neigh</th>\n",
       "      <th>statuses_count</th>\n",
       "      <th>followers_count</th>\n",
       "      <th>followees_count</th>\n",
       "      <th>favorites_count</th>\n",
       "      <th>listed_count</th>\n",
       "      <th>betweenness</th>\n",
       "      <th>...</th>\n",
       "      <th>c_feminine_empath</th>\n",
       "      <th>c_medieval_empath</th>\n",
       "      <th>c_journalism_empath</th>\n",
       "      <th>c_farming_empath</th>\n",
       "      <th>c_plant_empath</th>\n",
       "      <th>c_shopping_empath</th>\n",
       "      <th>c_ship_empath</th>\n",
       "      <th>c_religion_empath</th>\n",
       "      <th>c_tourism_empath</th>\n",
       "      <th>c_power_empath</th>\n",
       "    </tr>\n",
       "  </thead>\n",
       "  <tbody>\n",
       "    <tr>\n",
       "      <th>0</th>\n",
       "      <td>0</td>\n",
       "      <td>normal</td>\n",
       "      <td>True</td>\n",
       "      <td>True</td>\n",
       "      <td>101767</td>\n",
       "      <td>3504</td>\n",
       "      <td>3673</td>\n",
       "      <td>81635</td>\n",
       "      <td>53</td>\n",
       "      <td>100467.895084</td>\n",
       "      <td>...</td>\n",
       "      <td>0.001380</td>\n",
       "      <td>0.003288</td>\n",
       "      <td>0.000255</td>\n",
       "      <td>0.002189</td>\n",
       "      <td>0.000593</td>\n",
       "      <td>0.003689</td>\n",
       "      <td>0.003559</td>\n",
       "      <td>0.001634</td>\n",
       "      <td>0.002662</td>\n",
       "      <td>0.007487</td>\n",
       "    </tr>\n",
       "    <tr>\n",
       "      <th>1</th>\n",
       "      <td>1</td>\n",
       "      <td>other</td>\n",
       "      <td>False</td>\n",
       "      <td>False</td>\n",
       "      <td>2352</td>\n",
       "      <td>19609</td>\n",
       "      <td>309</td>\n",
       "      <td>61</td>\n",
       "      <td>197</td>\n",
       "      <td>0.000000</td>\n",
       "      <td>...</td>\n",
       "      <td>0.000802</td>\n",
       "      <td>0.004465</td>\n",
       "      <td>0.000444</td>\n",
       "      <td>0.001632</td>\n",
       "      <td>0.001298</td>\n",
       "      <td>0.002183</td>\n",
       "      <td>0.008969</td>\n",
       "      <td>0.004975</td>\n",
       "      <td>0.000647</td>\n",
       "      <td>0.003419</td>\n",
       "    </tr>\n",
       "    <tr>\n",
       "      <th>2</th>\n",
       "      <td>2</td>\n",
       "      <td>other</td>\n",
       "      <td>False</td>\n",
       "      <td>False</td>\n",
       "      <td>1044</td>\n",
       "      <td>2371</td>\n",
       "      <td>2246</td>\n",
       "      <td>561</td>\n",
       "      <td>16</td>\n",
       "      <td>4897.117853</td>\n",
       "      <td>...</td>\n",
       "      <td>0.000985</td>\n",
       "      <td>0.005284</td>\n",
       "      <td>0.000554</td>\n",
       "      <td>0.001084</td>\n",
       "      <td>0.001359</td>\n",
       "      <td>0.002041</td>\n",
       "      <td>0.016846</td>\n",
       "      <td>0.004881</td>\n",
       "      <td>0.001214</td>\n",
       "      <td>0.003347</td>\n",
       "    </tr>\n",
       "    <tr>\n",
       "      <th>3</th>\n",
       "      <td>3</td>\n",
       "      <td>other</td>\n",
       "      <td>False</td>\n",
       "      <td>False</td>\n",
       "      <td>167172</td>\n",
       "      <td>3004</td>\n",
       "      <td>298</td>\n",
       "      <td>3242</td>\n",
       "      <td>53</td>\n",
       "      <td>9.864754</td>\n",
       "      <td>...</td>\n",
       "      <td>0.001391</td>\n",
       "      <td>0.002061</td>\n",
       "      <td>0.001116</td>\n",
       "      <td>0.001282</td>\n",
       "      <td>0.000000</td>\n",
       "      <td>0.001951</td>\n",
       "      <td>0.015423</td>\n",
       "      <td>0.000446</td>\n",
       "      <td>0.000446</td>\n",
       "      <td>0.005241</td>\n",
       "    </tr>\n",
       "    <tr>\n",
       "      <th>4</th>\n",
       "      <td>4</td>\n",
       "      <td>other</td>\n",
       "      <td>False</td>\n",
       "      <td>False</td>\n",
       "      <td>1998</td>\n",
       "      <td>17643</td>\n",
       "      <td>19355</td>\n",
       "      <td>485</td>\n",
       "      <td>239</td>\n",
       "      <td>0.000000</td>\n",
       "      <td>...</td>\n",
       "      <td>0.000633</td>\n",
       "      <td>0.035382</td>\n",
       "      <td>0.000317</td>\n",
       "      <td>0.000475</td>\n",
       "      <td>0.000475</td>\n",
       "      <td>0.002431</td>\n",
       "      <td>0.007656</td>\n",
       "      <td>0.033273</td>\n",
       "      <td>0.072792</td>\n",
       "      <td>0.003698</td>\n",
       "    </tr>\n",
       "    <tr>\n",
       "      <th>5</th>\n",
       "      <td>5</td>\n",
       "      <td>other</td>\n",
       "      <td>False</td>\n",
       "      <td>False</td>\n",
       "      <td>523</td>\n",
       "      <td>124</td>\n",
       "      <td>135</td>\n",
       "      <td>439</td>\n",
       "      <td>3</td>\n",
       "      <td>615.566181</td>\n",
       "      <td>...</td>\n",
       "      <td>0.003140</td>\n",
       "      <td>0.001449</td>\n",
       "      <td>0.000000</td>\n",
       "      <td>0.001449</td>\n",
       "      <td>0.000163</td>\n",
       "      <td>0.003389</td>\n",
       "      <td>0.013682</td>\n",
       "      <td>0.002486</td>\n",
       "      <td>0.001996</td>\n",
       "      <td>0.005875</td>\n",
       "    </tr>\n",
       "    <tr>\n",
       "      <th>6</th>\n",
       "      <td>6</td>\n",
       "      <td>other</td>\n",
       "      <td>True</td>\n",
       "      <td>False</td>\n",
       "      <td>1136</td>\n",
       "      <td>2916</td>\n",
       "      <td>4594</td>\n",
       "      <td>47</td>\n",
       "      <td>3</td>\n",
       "      <td>433.745500</td>\n",
       "      <td>...</td>\n",
       "      <td>0.000269</td>\n",
       "      <td>0.005178</td>\n",
       "      <td>0.000267</td>\n",
       "      <td>0.006838</td>\n",
       "      <td>0.000689</td>\n",
       "      <td>0.002362</td>\n",
       "      <td>0.006077</td>\n",
       "      <td>0.001035</td>\n",
       "      <td>0.002015</td>\n",
       "      <td>0.005427</td>\n",
       "    </tr>\n",
       "    <tr>\n",
       "      <th>7</th>\n",
       "      <td>7</td>\n",
       "      <td>other</td>\n",
       "      <td>False</td>\n",
       "      <td>False</td>\n",
       "      <td>20488</td>\n",
       "      <td>5980</td>\n",
       "      <td>2225</td>\n",
       "      <td>1422</td>\n",
       "      <td>356</td>\n",
       "      <td>4295.887385</td>\n",
       "      <td>...</td>\n",
       "      <td>0.001027</td>\n",
       "      <td>0.003927</td>\n",
       "      <td>0.000296</td>\n",
       "      <td>0.002616</td>\n",
       "      <td>0.001053</td>\n",
       "      <td>0.003678</td>\n",
       "      <td>0.005731</td>\n",
       "      <td>0.001461</td>\n",
       "      <td>0.004009</td>\n",
       "      <td>0.004851</td>\n",
       "    </tr>\n",
       "    <tr>\n",
       "      <th>8</th>\n",
       "      <td>8</td>\n",
       "      <td>other</td>\n",
       "      <td>False</td>\n",
       "      <td>False</td>\n",
       "      <td>4356</td>\n",
       "      <td>139</td>\n",
       "      <td>114</td>\n",
       "      <td>90</td>\n",
       "      <td>1</td>\n",
       "      <td>0.000000</td>\n",
       "      <td>...</td>\n",
       "      <td>0.000000</td>\n",
       "      <td>0.000678</td>\n",
       "      <td>0.000000</td>\n",
       "      <td>0.000000</td>\n",
       "      <td>0.000000</td>\n",
       "      <td>0.000000</td>\n",
       "      <td>0.000000</td>\n",
       "      <td>0.000700</td>\n",
       "      <td>0.000000</td>\n",
       "      <td>0.000000</td>\n",
       "    </tr>\n",
       "    <tr>\n",
       "      <th>9</th>\n",
       "      <td>9</td>\n",
       "      <td>other</td>\n",
       "      <td>False</td>\n",
       "      <td>True</td>\n",
       "      <td>50565</td>\n",
       "      <td>1618</td>\n",
       "      <td>499</td>\n",
       "      <td>613</td>\n",
       "      <td>24</td>\n",
       "      <td>63413.364995</td>\n",
       "      <td>...</td>\n",
       "      <td>0.001973</td>\n",
       "      <td>0.002282</td>\n",
       "      <td>0.001044</td>\n",
       "      <td>0.001973</td>\n",
       "      <td>0.001422</td>\n",
       "      <td>0.004187</td>\n",
       "      <td>0.003877</td>\n",
       "      <td>0.004072</td>\n",
       "      <td>0.005919</td>\n",
       "      <td>0.004921</td>\n",
       "    </tr>\n",
       "  </tbody>\n",
       "</table>\n",
       "<p>10 rows × 1039 columns</p>\n",
       "</div>"
      ],
      "text/plain": [
       "   user_id    hate  hate_neigh  normal_neigh  statuses_count  followers_count  \\\n",
       "0        0  normal        True          True          101767             3504   \n",
       "1        1   other       False         False            2352            19609   \n",
       "2        2   other       False         False            1044             2371   \n",
       "3        3   other       False         False          167172             3004   \n",
       "4        4   other       False         False            1998            17643   \n",
       "5        5   other       False         False             523              124   \n",
       "6        6   other        True         False            1136             2916   \n",
       "7        7   other       False         False           20488             5980   \n",
       "8        8   other       False         False            4356              139   \n",
       "9        9   other       False          True           50565             1618   \n",
       "\n",
       "   followees_count  favorites_count  listed_count    betweenness  ...  \\\n",
       "0             3673            81635            53  100467.895084  ...   \n",
       "1              309               61           197       0.000000  ...   \n",
       "2             2246              561            16    4897.117853  ...   \n",
       "3              298             3242            53       9.864754  ...   \n",
       "4            19355              485           239       0.000000  ...   \n",
       "5              135              439             3     615.566181  ...   \n",
       "6             4594               47             3     433.745500  ...   \n",
       "7             2225             1422           356    4295.887385  ...   \n",
       "8              114               90             1       0.000000  ...   \n",
       "9              499              613            24   63413.364995  ...   \n",
       "\n",
       "   c_feminine_empath  c_medieval_empath  c_journalism_empath  \\\n",
       "0           0.001380           0.003288             0.000255   \n",
       "1           0.000802           0.004465             0.000444   \n",
       "2           0.000985           0.005284             0.000554   \n",
       "3           0.001391           0.002061             0.001116   \n",
       "4           0.000633           0.035382             0.000317   \n",
       "5           0.003140           0.001449             0.000000   \n",
       "6           0.000269           0.005178             0.000267   \n",
       "7           0.001027           0.003927             0.000296   \n",
       "8           0.000000           0.000678             0.000000   \n",
       "9           0.001973           0.002282             0.001044   \n",
       "\n",
       "   c_farming_empath  c_plant_empath  c_shopping_empath  c_ship_empath  \\\n",
       "0          0.002189        0.000593           0.003689       0.003559   \n",
       "1          0.001632        0.001298           0.002183       0.008969   \n",
       "2          0.001084        0.001359           0.002041       0.016846   \n",
       "3          0.001282        0.000000           0.001951       0.015423   \n",
       "4          0.000475        0.000475           0.002431       0.007656   \n",
       "5          0.001449        0.000163           0.003389       0.013682   \n",
       "6          0.006838        0.000689           0.002362       0.006077   \n",
       "7          0.002616        0.001053           0.003678       0.005731   \n",
       "8          0.000000        0.000000           0.000000       0.000000   \n",
       "9          0.001973        0.001422           0.004187       0.003877   \n",
       "\n",
       "   c_religion_empath  c_tourism_empath  c_power_empath  \n",
       "0           0.001634          0.002662        0.007487  \n",
       "1           0.004975          0.000647        0.003419  \n",
       "2           0.004881          0.001214        0.003347  \n",
       "3           0.000446          0.000446        0.005241  \n",
       "4           0.033273          0.072792        0.003698  \n",
       "5           0.002486          0.001996        0.005875  \n",
       "6           0.001035          0.002015        0.005427  \n",
       "7           0.001461          0.004009        0.004851  \n",
       "8           0.000700          0.000000        0.000000  \n",
       "9           0.004072          0.005919        0.004921  \n",
       "\n",
       "[10 rows x 1039 columns]"
      ]
     },
     "execution_count": 184,
     "metadata": {},
     "output_type": "execute_result"
    }
   ],
   "source": []
  },
  {
   "cell_type": "code",
   "execution_count": null,
   "metadata": {},
   "outputs": [],
   "source": []
  },
  {
   "cell_type": "code",
   "execution_count": null,
   "metadata": {},
   "outputs": [],
   "source": []
  }
 ],
 "metadata": {
  "kernelspec": {
   "display_name": "venv",
   "language": "python",
   "name": "python3"
  },
  "language_info": {
   "codemirror_mode": {
    "name": "ipython",
    "version": 3
   },
   "file_extension": ".py",
   "mimetype": "text/x-python",
   "name": "python",
   "nbconvert_exporter": "python",
   "pygments_lexer": "ipython3",
   "version": "3.11.7"
  }
 },
 "nbformat": 4,
 "nbformat_minor": 2
}
